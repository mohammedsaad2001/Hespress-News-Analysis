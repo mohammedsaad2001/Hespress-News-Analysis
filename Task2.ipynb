{
 "cells": [
  {
   "cell_type": "markdown",
   "id": "e3cb3dad",
   "metadata": {},
   "source": [
    "\n",
    "# Task2\n",
    "\n",
    "## Table of Contents\n",
    "<ul>\n",
    "<li><a href=\"#intro\">Introduction</a></li>\n",
    "<li><a href=\"#wrangling\">Data Wrangling</a></li>\n",
    "<li><a href=\"#eda\">Exploratory Data Analysis</a></li>\n",
    "<li><a href=\"#conclusions\">Conclusions</a></li>\n",
    "</ul>"
   ]
  },
  {
   "cell_type": "markdown",
   "id": "8a3e9b5b",
   "metadata": {},
   "source": [
    "<a id='intro'></a>\n",
    "## Introduction\n",
    "\n",
    "### Dataset Description \n",
    "Hespress is a Moroccan news website that provides news and information about Morocco and the world to Arabic-speaking audiences. It was launched in 2007 and has become one of the most popular news websites in Morocco, with millions of monthly visitors. Hespress covers a wide range of topics, including politics, society, economy, sports, culture, and technology, among others.\n",
    "\n",
    "#### Understanding Dataset**\n",
    "Dataset contains 6 columns(id,title\tdate,author,story,topic) \n",
    "\n",
    "**title**  : Story title\n",
    "\n",
    "**author** : The name of the author of the story\n",
    "\n",
    "**topic**  : story category [**tamazight , sport , societe , regions , politique,\n",
    "orbites , medias , marocains-du-monde , faits-divers , economie , art-et-culture**]\n",
    "\n",
    "### Questions for Analysis\n",
    "\n",
    "**1 .**What is the number of examples per class?\n",
    "\n",
    "**2 .**What are top frequent n-grams generally and per class?\n",
    "\n",
    "**3 .**What are lengths of examples in words and letters?\n",
    "\n",
    "**4 .**What is the most frequent author name in each class?\n",
    "\n",
    "**5 .**What is the most common year in the dataset?"
   ]
  },
  {
   "cell_type": "markdown",
   "id": "8fa134e4",
   "metadata": {},
   "source": [
    "### Install and import libraries"
   ]
  },
  {
   "cell_type": "code",
   "execution_count": 1,
   "id": "475733d4",
   "metadata": {},
   "outputs": [
    {
     "name": "stdout",
     "output_type": "stream",
     "text": [
      "Requirement already satisfied: python-bidi in d:\\anaconda\\lib\\site-packages (0.4.2)\n",
      "Requirement already satisfied: six in d:\\anaconda\\lib\\site-packages (from python-bidi) (1.16.0)\n",
      "Note: you may need to restart the kernel to use updated packages.\n"
     ]
    },
    {
     "name": "stderr",
     "output_type": "stream",
     "text": [
      "WARNING: Ignoring invalid distribution -andas (d:\\anaconda\\lib\\site-packages)\n",
      "WARNING: Ignoring invalid distribution -andas (d:\\anaconda\\lib\\site-packages)\n",
      "WARNING: Ignoring invalid distribution -andas (d:\\anaconda\\lib\\site-packages)\n",
      "WARNING: Ignoring invalid distribution -andas (d:\\anaconda\\lib\\site-packages)\n",
      "WARNING: Ignoring invalid distribution -andas (d:\\anaconda\\lib\\site-packages)\n",
      "WARNING: Ignoring invalid distribution -andas (d:\\anaconda\\lib\\site-packages)\n"
     ]
    }
   ],
   "source": [
    "pip install python-bidi"
   ]
  },
  {
   "cell_type": "code",
   "execution_count": 2,
   "id": "7631fb8a",
   "metadata": {},
   "outputs": [
    {
     "name": "stdout",
     "output_type": "stream",
     "text": [
      "Requirement already satisfied: arabic-reshaper in d:\\anaconda\\lib\\site-packages (3.0.0)\n",
      "Note: you may need to restart the kernel to use updated packages.\n"
     ]
    },
    {
     "name": "stderr",
     "output_type": "stream",
     "text": [
      "WARNING: Ignoring invalid distribution -andas (d:\\anaconda\\lib\\site-packages)\n",
      "WARNING: Ignoring invalid distribution -andas (d:\\anaconda\\lib\\site-packages)\n",
      "WARNING: Ignoring invalid distribution -andas (d:\\anaconda\\lib\\site-packages)\n",
      "WARNING: Ignoring invalid distribution -andas (d:\\anaconda\\lib\\site-packages)\n",
      "WARNING: Ignoring invalid distribution -andas (d:\\anaconda\\lib\\site-packages)\n",
      "WARNING: Ignoring invalid distribution -andas (d:\\anaconda\\lib\\site-packages)\n"
     ]
    }
   ],
   "source": [
    "pip install arabic-reshaper"
   ]
  },
  {
   "cell_type": "code",
   "execution_count": 3,
   "id": "450ac63c",
   "metadata": {},
   "outputs": [],
   "source": [
    "#import libraries\n",
    "import pandas as pd\n",
    "import seaborn as sns\n",
    "import arabic_reshaper\n",
    "from bidi.algorithm import get_display\n",
    "from collections import Counter"
   ]
  },
  {
   "cell_type": "markdown",
   "id": "c07b9bb2",
   "metadata": {},
   "source": [
    "<a id='wrangling'></a>\n",
    "## Data Wrangling\n",
    "\n",
    "\n",
    "\n",
    "### General Properties\n"
   ]
  },
  {
   "cell_type": "code",
   "execution_count": 4,
   "id": "4fe743f3",
   "metadata": {},
   "outputs": [],
   "source": [
    "# read data set and concat different files\n",
    "Data_Stories = pd.DataFrame()\n",
    "Files = ['tamazight','sport','societe','regions','politique','orbites','medias','marocains-du-monde',\n",
    "         'faits-divers','economie','art-et-culture']\n",
    "# read each file in our dataset\n",
    "for File in Files:\n",
    "    Data_Stories = pd.concat([Data_Stories,pd.read_csv(\"stories_\" + File + \".csv\" ,encoding='utf-8')])"
   ]
  },
  {
   "cell_type": "code",
   "execution_count": 5,
   "id": "07c65c0f",
   "metadata": {},
   "outputs": [],
   "source": [
    "#reset index\n",
    "Data_Stories.reset_index(inplace=True)"
   ]
  },
  {
   "cell_type": "code",
   "execution_count": 6,
   "id": "32a9048a",
   "metadata": {},
   "outputs": [
    {
     "data": {
      "text/html": [
       "<div>\n",
       "<style scoped>\n",
       "    .dataframe tbody tr th:only-of-type {\n",
       "        vertical-align: middle;\n",
       "    }\n",
       "\n",
       "    .dataframe tbody tr th {\n",
       "        vertical-align: top;\n",
       "    }\n",
       "\n",
       "    .dataframe thead th {\n",
       "        text-align: right;\n",
       "    }\n",
       "</style>\n",
       "<table border=\"1\" class=\"dataframe\">\n",
       "  <thead>\n",
       "    <tr style=\"text-align: right;\">\n",
       "      <th></th>\n",
       "      <th>index</th>\n",
       "      <th>Unnamed: 0</th>\n",
       "      <th>id</th>\n",
       "      <th>title</th>\n",
       "      <th>date</th>\n",
       "      <th>author</th>\n",
       "      <th>story</th>\n",
       "      <th>topic</th>\n",
       "    </tr>\n",
       "  </thead>\n",
       "  <tbody>\n",
       "    <tr>\n",
       "      <th>0</th>\n",
       "      <td>0</td>\n",
       "      <td>0</td>\n",
       "      <td>9de52a46055311eb8949646e69d991ea</td>\n",
       "      <td>وزارة التربية: لا تغيير في الغلاف الزمني للأما...</td>\n",
       "      <td>السبت 03 أكتوبر 2020 - 00:02</td>\n",
       "      <td>هسبريس من الرباط</td>\n",
       "      <td>قالت وزارة التربية الوطنية والتكوين المهني وال...</td>\n",
       "      <td>tamazight</td>\n",
       "    </tr>\n",
       "    <tr>\n",
       "      <th>1</th>\n",
       "      <td>1</td>\n",
       "      <td>1</td>\n",
       "      <td>9ee74b02055311ebb757646e69d991ea</td>\n",
       "      <td>\"تغييب\" تدريس الأمازيغية يغضب نقابات بتزنيت</td>\n",
       "      <td>الاثنين 28 شتنبر 2020 - 09:13</td>\n",
       "      <td>رشيد بيجيكن من أكادير</td>\n",
       "      <td>طالبت الكتابة الإقليمية للجامعة الوطنية للتعلي...</td>\n",
       "      <td>tamazight</td>\n",
       "    </tr>\n",
       "    <tr>\n",
       "      <th>2</th>\n",
       "      <td>2</td>\n",
       "      <td>2</td>\n",
       "      <td>9fed7812055311eb9158646e69d991ea</td>\n",
       "      <td>مرصد يستنكر رفض قبول أستاذة أمازيغية بمدرسة</td>\n",
       "      <td>الاثنين 28 شتنبر 2020 - 00:41</td>\n",
       "      <td>هسبريس من الرباط</td>\n",
       "      <td>أفاد المرصد الأمازيغي للحقوق والحريات أنه توصل...</td>\n",
       "      <td>tamazight</td>\n",
       "    </tr>\n",
       "    <tr>\n",
       "      <th>3</th>\n",
       "      <td>3</td>\n",
       "      <td>3</td>\n",
       "      <td>a0e39038055311eb8f78646e69d991ea</td>\n",
       "      <td>نص امتحان موحد يثير حنق فعاليات أمازيغية</td>\n",
       "      <td>السبت 26 شتنبر 2020 - 17:28</td>\n",
       "      <td>هسبريس من الرّباط</td>\n",
       "      <td>سجلت فعاليات مدنية أمازيغية عديدة امتعاضها من ...</td>\n",
       "      <td>tamazight</td>\n",
       "    </tr>\n",
       "    <tr>\n",
       "      <th>4</th>\n",
       "      <td>4</td>\n",
       "      <td>4</td>\n",
       "      <td>a1d90814055311eb879e646e69d991ea</td>\n",
       "      <td>\"عادل تيزنيت\" يتحف المغاربة بالموسيقى الأمازيغية</td>\n",
       "      <td>السبت 26 شتنبر 2020 - 15:50</td>\n",
       "      <td>هسبريس من الرباط</td>\n",
       "      <td>من داخل سيارة بسيطة يركنها بالمدخل الشمالي لمد...</td>\n",
       "      <td>tamazight</td>\n",
       "    </tr>\n",
       "  </tbody>\n",
       "</table>\n",
       "</div>"
      ],
      "text/plain": [
       "   index  Unnamed: 0                                id  \\\n",
       "0      0           0  9de52a46055311eb8949646e69d991ea   \n",
       "1      1           1  9ee74b02055311ebb757646e69d991ea   \n",
       "2      2           2  9fed7812055311eb9158646e69d991ea   \n",
       "3      3           3  a0e39038055311eb8f78646e69d991ea   \n",
       "4      4           4  a1d90814055311eb879e646e69d991ea   \n",
       "\n",
       "                                               title  \\\n",
       "0  وزارة التربية: لا تغيير في الغلاف الزمني للأما...   \n",
       "1        \"تغييب\" تدريس الأمازيغية يغضب نقابات بتزنيت   \n",
       "2        مرصد يستنكر رفض قبول أستاذة أمازيغية بمدرسة   \n",
       "3           نص امتحان موحد يثير حنق فعاليات أمازيغية   \n",
       "4   \"عادل تيزنيت\" يتحف المغاربة بالموسيقى الأمازيغية   \n",
       "\n",
       "                            date                 author  \\\n",
       "0   السبت 03 أكتوبر 2020 - 00:02       هسبريس من الرباط   \n",
       "1  الاثنين 28 شتنبر 2020 - 09:13  رشيد بيجيكن من أكادير   \n",
       "2  الاثنين 28 شتنبر 2020 - 00:41       هسبريس من الرباط   \n",
       "3    السبت 26 شتنبر 2020 - 17:28      هسبريس من الرّباط   \n",
       "4    السبت 26 شتنبر 2020 - 15:50       هسبريس من الرباط   \n",
       "\n",
       "                                               story      topic  \n",
       "0  قالت وزارة التربية الوطنية والتكوين المهني وال...  tamazight  \n",
       "1  طالبت الكتابة الإقليمية للجامعة الوطنية للتعلي...  tamazight  \n",
       "2  أفاد المرصد الأمازيغي للحقوق والحريات أنه توصل...  tamazight  \n",
       "3  سجلت فعاليات مدنية أمازيغية عديدة امتعاضها من ...  tamazight  \n",
       "4  من داخل سيارة بسيطة يركنها بالمدخل الشمالي لمد...  tamazight  "
      ]
     },
     "execution_count": 6,
     "metadata": {},
     "output_type": "execute_result"
    }
   ],
   "source": [
    "# check the data\n",
    "Data_Stories.head()"
   ]
  },
  {
   "cell_type": "code",
   "execution_count": 7,
   "id": "4ec00caa",
   "metadata": {},
   "outputs": [],
   "source": [
    "# remove unwanted columns\n",
    "Data_Stories.drop(columns=[\"index\",\"Unnamed: 0\"],axis=1,inplace=True)"
   ]
  },
  {
   "cell_type": "code",
   "execution_count": 8,
   "id": "cf88024d",
   "metadata": {},
   "outputs": [
    {
     "data": {
      "text/html": [
       "<div>\n",
       "<style scoped>\n",
       "    .dataframe tbody tr th:only-of-type {\n",
       "        vertical-align: middle;\n",
       "    }\n",
       "\n",
       "    .dataframe tbody tr th {\n",
       "        vertical-align: top;\n",
       "    }\n",
       "\n",
       "    .dataframe thead th {\n",
       "        text-align: right;\n",
       "    }\n",
       "</style>\n",
       "<table border=\"1\" class=\"dataframe\">\n",
       "  <thead>\n",
       "    <tr style=\"text-align: right;\">\n",
       "      <th></th>\n",
       "      <th>id</th>\n",
       "      <th>title</th>\n",
       "      <th>date</th>\n",
       "      <th>author</th>\n",
       "      <th>story</th>\n",
       "      <th>topic</th>\n",
       "    </tr>\n",
       "  </thead>\n",
       "  <tbody>\n",
       "    <tr>\n",
       "      <th>0</th>\n",
       "      <td>9de52a46055311eb8949646e69d991ea</td>\n",
       "      <td>وزارة التربية: لا تغيير في الغلاف الزمني للأما...</td>\n",
       "      <td>السبت 03 أكتوبر 2020 - 00:02</td>\n",
       "      <td>هسبريس من الرباط</td>\n",
       "      <td>قالت وزارة التربية الوطنية والتكوين المهني وال...</td>\n",
       "      <td>tamazight</td>\n",
       "    </tr>\n",
       "    <tr>\n",
       "      <th>1</th>\n",
       "      <td>9ee74b02055311ebb757646e69d991ea</td>\n",
       "      <td>\"تغييب\" تدريس الأمازيغية يغضب نقابات بتزنيت</td>\n",
       "      <td>الاثنين 28 شتنبر 2020 - 09:13</td>\n",
       "      <td>رشيد بيجيكن من أكادير</td>\n",
       "      <td>طالبت الكتابة الإقليمية للجامعة الوطنية للتعلي...</td>\n",
       "      <td>tamazight</td>\n",
       "    </tr>\n",
       "    <tr>\n",
       "      <th>2</th>\n",
       "      <td>9fed7812055311eb9158646e69d991ea</td>\n",
       "      <td>مرصد يستنكر رفض قبول أستاذة أمازيغية بمدرسة</td>\n",
       "      <td>الاثنين 28 شتنبر 2020 - 00:41</td>\n",
       "      <td>هسبريس من الرباط</td>\n",
       "      <td>أفاد المرصد الأمازيغي للحقوق والحريات أنه توصل...</td>\n",
       "      <td>tamazight</td>\n",
       "    </tr>\n",
       "    <tr>\n",
       "      <th>3</th>\n",
       "      <td>a0e39038055311eb8f78646e69d991ea</td>\n",
       "      <td>نص امتحان موحد يثير حنق فعاليات أمازيغية</td>\n",
       "      <td>السبت 26 شتنبر 2020 - 17:28</td>\n",
       "      <td>هسبريس من الرّباط</td>\n",
       "      <td>سجلت فعاليات مدنية أمازيغية عديدة امتعاضها من ...</td>\n",
       "      <td>tamazight</td>\n",
       "    </tr>\n",
       "    <tr>\n",
       "      <th>4</th>\n",
       "      <td>a1d90814055311eb879e646e69d991ea</td>\n",
       "      <td>\"عادل تيزنيت\" يتحف المغاربة بالموسيقى الأمازيغية</td>\n",
       "      <td>السبت 26 شتنبر 2020 - 15:50</td>\n",
       "      <td>هسبريس من الرباط</td>\n",
       "      <td>من داخل سيارة بسيطة يركنها بالمدخل الشمالي لمد...</td>\n",
       "      <td>tamazight</td>\n",
       "    </tr>\n",
       "    <tr>\n",
       "      <th>...</th>\n",
       "      <td>...</td>\n",
       "      <td>...</td>\n",
       "      <td>...</td>\n",
       "      <td>...</td>\n",
       "      <td>...</td>\n",
       "      <td>...</td>\n",
       "    </tr>\n",
       "    <tr>\n",
       "      <th>10995</th>\n",
       "      <td>97e7b078055311eb972a646e69d991ea</td>\n",
       "      <td>مِهَنيّون: غياب توقيع رئيس الحكومة يوقف 200 مش...</td>\n",
       "      <td>الاثنين 18 نونبر 2019 - 00:25</td>\n",
       "      <td>هسبريس - وائل بورشاشن</td>\n",
       "      <td>تستمرّ الآثار الجانبية للانتقال الحكومي الأخير...</td>\n",
       "      <td>art-et-culture</td>\n",
       "    </tr>\n",
       "    <tr>\n",
       "      <th>10996</th>\n",
       "      <td>98f7723e055311ebb811646e69d991ea</td>\n",
       "      <td>ندوة تقارب \"جهود السوسيين\" في خدمة العربية</td>\n",
       "      <td>الأحد 17 نونبر 2019 - 11:15</td>\n",
       "      <td>الحسين حرّان</td>\n",
       "      <td>قال الدكتور المهدي السعيدي، في ندوة حول \"جهود ...</td>\n",
       "      <td>art-et-culture</td>\n",
       "    </tr>\n",
       "    <tr>\n",
       "      <th>10997</th>\n",
       "      <td>9a29bc06055311ebbb05646e69d991ea</td>\n",
       "      <td>تتويج أشرطة في مهرجان سينما الذاكرة المشتركة</td>\n",
       "      <td>السبت 16 نونبر 2019 - 20:17</td>\n",
       "      <td>هسبريس من الرباط</td>\n",
       "      <td>أجمعت لجنة المسابقة الخاصة بالأفلام المغربية ا...</td>\n",
       "      <td>art-et-culture</td>\n",
       "    </tr>\n",
       "    <tr>\n",
       "      <th>10998</th>\n",
       "      <td>9b547968055311ebb870646e69d991ea</td>\n",
       "      <td>ريشة التشكيلية بثينة أزمي تتمرد على الظلم والع...</td>\n",
       "      <td>السبت 16 نونبر 2019 - 10:00</td>\n",
       "      <td>هسبريس - كاميليا كريم</td>\n",
       "      <td>ألوان حيّة ولمسات تعبيرية تحْمل مآسي إنسانية ل...</td>\n",
       "      <td>art-et-culture</td>\n",
       "    </tr>\n",
       "    <tr>\n",
       "      <th>10999</th>\n",
       "      <td>9c6b8f50055311eb9c5c646e69d991ea</td>\n",
       "      <td>مسرحية \"بوحجبان\" تبدأ جولة وطنية من مدينة خريبكة</td>\n",
       "      <td>السبت 16 نونبر 2019 - 04:20</td>\n",
       "      <td>هسبريس من الرباط</td>\n",
       "      <td>تقوم فرقة مسرح \"سفر\" بجولة وطنية لتقديم مسرحيت...</td>\n",
       "      <td>art-et-culture</td>\n",
       "    </tr>\n",
       "  </tbody>\n",
       "</table>\n",
       "<p>11000 rows × 6 columns</p>\n",
       "</div>"
      ],
      "text/plain": [
       "                                     id  \\\n",
       "0      9de52a46055311eb8949646e69d991ea   \n",
       "1      9ee74b02055311ebb757646e69d991ea   \n",
       "2      9fed7812055311eb9158646e69d991ea   \n",
       "3      a0e39038055311eb8f78646e69d991ea   \n",
       "4      a1d90814055311eb879e646e69d991ea   \n",
       "...                                 ...   \n",
       "10995  97e7b078055311eb972a646e69d991ea   \n",
       "10996  98f7723e055311ebb811646e69d991ea   \n",
       "10997  9a29bc06055311ebbb05646e69d991ea   \n",
       "10998  9b547968055311ebb870646e69d991ea   \n",
       "10999  9c6b8f50055311eb9c5c646e69d991ea   \n",
       "\n",
       "                                                   title  \\\n",
       "0      وزارة التربية: لا تغيير في الغلاف الزمني للأما...   \n",
       "1            \"تغييب\" تدريس الأمازيغية يغضب نقابات بتزنيت   \n",
       "2            مرصد يستنكر رفض قبول أستاذة أمازيغية بمدرسة   \n",
       "3               نص امتحان موحد يثير حنق فعاليات أمازيغية   \n",
       "4       \"عادل تيزنيت\" يتحف المغاربة بالموسيقى الأمازيغية   \n",
       "...                                                  ...   \n",
       "10995  مِهَنيّون: غياب توقيع رئيس الحكومة يوقف 200 مش...   \n",
       "10996         ندوة تقارب \"جهود السوسيين\" في خدمة العربية   \n",
       "10997       تتويج أشرطة في مهرجان سينما الذاكرة المشتركة   \n",
       "10998  ريشة التشكيلية بثينة أزمي تتمرد على الظلم والع...   \n",
       "10999   مسرحية \"بوحجبان\" تبدأ جولة وطنية من مدينة خريبكة   \n",
       "\n",
       "                                date                 author  \\\n",
       "0       السبت 03 أكتوبر 2020 - 00:02       هسبريس من الرباط   \n",
       "1      الاثنين 28 شتنبر 2020 - 09:13  رشيد بيجيكن من أكادير   \n",
       "2      الاثنين 28 شتنبر 2020 - 00:41       هسبريس من الرباط   \n",
       "3        السبت 26 شتنبر 2020 - 17:28      هسبريس من الرّباط   \n",
       "4        السبت 26 شتنبر 2020 - 15:50       هسبريس من الرباط   \n",
       "...                              ...                    ...   \n",
       "10995  الاثنين 18 نونبر 2019 - 00:25  هسبريس - وائل بورشاشن   \n",
       "10996    الأحد 17 نونبر 2019 - 11:15           الحسين حرّان   \n",
       "10997    السبت 16 نونبر 2019 - 20:17       هسبريس من الرباط   \n",
       "10998    السبت 16 نونبر 2019 - 10:00  هسبريس - كاميليا كريم   \n",
       "10999    السبت 16 نونبر 2019 - 04:20       هسبريس من الرباط   \n",
       "\n",
       "                                                   story           topic  \n",
       "0      قالت وزارة التربية الوطنية والتكوين المهني وال...       tamazight  \n",
       "1      طالبت الكتابة الإقليمية للجامعة الوطنية للتعلي...       tamazight  \n",
       "2      أفاد المرصد الأمازيغي للحقوق والحريات أنه توصل...       tamazight  \n",
       "3      سجلت فعاليات مدنية أمازيغية عديدة امتعاضها من ...       tamazight  \n",
       "4      من داخل سيارة بسيطة يركنها بالمدخل الشمالي لمد...       tamazight  \n",
       "...                                                  ...             ...  \n",
       "10995  تستمرّ الآثار الجانبية للانتقال الحكومي الأخير...  art-et-culture  \n",
       "10996  قال الدكتور المهدي السعيدي، في ندوة حول \"جهود ...  art-et-culture  \n",
       "10997  أجمعت لجنة المسابقة الخاصة بالأفلام المغربية ا...  art-et-culture  \n",
       "10998  ألوان حيّة ولمسات تعبيرية تحْمل مآسي إنسانية ل...  art-et-culture  \n",
       "10999  تقوم فرقة مسرح \"سفر\" بجولة وطنية لتقديم مسرحيت...  art-et-culture  \n",
       "\n",
       "[11000 rows x 6 columns]"
      ]
     },
     "execution_count": 8,
     "metadata": {},
     "output_type": "execute_result"
    }
   ],
   "source": [
    "#check data\n",
    "Data_Stories"
   ]
  },
  {
   "cell_type": "markdown",
   "id": "799186cd",
   "metadata": {},
   "source": [
    "**Now we can start out analysis**"
   ]
  },
  {
   "cell_type": "code",
   "execution_count": 9,
   "id": "1d6d9cbd",
   "metadata": {},
   "outputs": [
    {
     "name": "stdout",
     "output_type": "stream",
     "text": [
      "<class 'pandas.core.frame.DataFrame'>\n",
      "RangeIndex: 11000 entries, 0 to 10999\n",
      "Data columns (total 6 columns):\n",
      " #   Column  Non-Null Count  Dtype \n",
      "---  ------  --------------  ----- \n",
      " 0   id      11000 non-null  object\n",
      " 1   title   11000 non-null  object\n",
      " 2   date    11000 non-null  object\n",
      " 3   author  11000 non-null  object\n",
      " 4   story   11000 non-null  object\n",
      " 5   topic   11000 non-null  object\n",
      "dtypes: object(6)\n",
      "memory usage: 515.8+ KB\n"
     ]
    }
   ],
   "source": [
    "Data_Stories.info()"
   ]
  },
  {
   "cell_type": "markdown",
   "id": "723fdd68",
   "metadata": {},
   "source": [
    "as shown data has no null "
   ]
  },
  {
   "cell_type": "markdown",
   "id": "766f76a8",
   "metadata": {},
   "source": [
    "<a id='eda'></a>\n",
    "## Exploratory Data Analysis\n",
    "\n",
    "\n"
   ]
  },
  {
   "cell_type": "markdown",
   "id": "cff9bd17",
   "metadata": {},
   "source": [
    "### Research Question 1 (What is the number of examples per class?)"
   ]
  },
  {
   "cell_type": "code",
   "execution_count": 10,
   "id": "97290849",
   "metadata": {},
   "outputs": [
    {
     "data": {
      "image/png": "[encoded data removed]",
      "text/plain": [
       "<Figure size 1440x720 with 1 Axes>"
      ]
     },
     "metadata": {
      "needs_background": "light"
     },
     "output_type": "display_data"
    }
   ],
   "source": [
    "#count each class in the dataset and visualize it using bar chart\n",
    "ax = sns.barplot(x ='topic', y ='id', data=Data_Stories.groupby('topic').count().reset_index(),)\n",
    "ax.set_title('Number of stories in each topic') # Set plot title\n",
    "ax.figure.set_size_inches(20, 10) # Set figure size"
   ]
  },
  {
   "cell_type": "code",
   "execution_count": 11,
   "id": "91fc2ee1",
   "metadata": {},
   "outputs": [
    {
     "data": {
      "text/plain": [
       "topic\n",
       "art-et-culture        1000\n",
       "economie              1000\n",
       "faits-divers          1000\n",
       "marocains-du-monde    1000\n",
       "medias                1000\n",
       "orbites               1000\n",
       "politique             1000\n",
       "regions               1000\n",
       "societe               1000\n",
       "sport                 1000\n",
       "tamazight             1000\n",
       "Name: story, dtype: int64"
      ]
     },
     "execution_count": 11,
     "metadata": {},
     "output_type": "execute_result"
    }
   ],
   "source": [
    "# to make sure that all classes are equal\n",
    "Data_Stories.groupby('topic').story.count()"
   ]
  },
  {
   "cell_type": "markdown",
   "id": "324cbfc1",
   "metadata": {},
   "source": [
    "**As shown , dataset is balanced and each class has the same number of stories.**"
   ]
  },
  {
   "cell_type": "markdown",
   "id": "2cb38aa2",
   "metadata": {},
   "source": [
    "### Research Question 2 (What are top frequent n-grams generally and per class?)"
   ]
  },
  {
   "cell_type": "code",
   "execution_count": 12,
   "id": "ae2cc521",
   "metadata": {},
   "outputs": [],
   "source": [
    "'''\n",
    "function to extract n-grams from text : \n",
    "\n",
    "this function takes the story and the number of grams you want\n",
    "and then it split each story to list of words then it iterates \n",
    "to len(list of words)-N+1 collect words together from i to i+N\n",
    "\n",
    "'''\n",
    "def get_ngrams(story, N):\n",
    "    ngrams = []\n",
    "    words = story.split()\n",
    "    for i in range(len(words)-N+1):\n",
    "        ngrams.append(' '.join(words[i:i+N]))\n",
    "    return ngrams"
   ]
  },
  {
   "cell_type": "code",
   "execution_count": 13,
   "id": "26f802a3",
   "metadata": {},
   "outputs": [],
   "source": [
    "'''\n",
    "function to get the most freq ngrams\n",
    "\n",
    "this function takes all Stories and the number of grams you want and number of rows \n",
    "you want to see from most frequent n-grams ,then it uses get_ngrams function to make \n",
    "the first step to get ngrams and then get the most common ngrams after that it return \n",
    "datframe with two column n-grams for the sentences and count that describe the frequency \n",
    "of this sentence.\n",
    "\n",
    "'''\n",
    "def get_top_ngrams(stories, N ,top_N):\n",
    "    ngram_counts = Counter()\n",
    "    for story in stories:\n",
    "        ngrams = get_ngrams(story, N)\n",
    "        ngram_counts.update(ngrams)\n",
    "    top_ngrams = ngram_counts.most_common(top_N)\n",
    "    top_ngrams_df = pd.DataFrame(top_ngrams, columns=[f'{N}-gram', 'Count'])\n",
    "    return top_ngrams_df"
   ]
  },
  {
   "cell_type": "code",
   "execution_count": 14,
   "id": "5e0fd423",
   "metadata": {
    "scrolled": false
   },
   "outputs": [
    {
     "data": {
      "text/html": [
       "<div>\n",
       "<style scoped>\n",
       "    .dataframe tbody tr th:only-of-type {\n",
       "        vertical-align: middle;\n",
       "    }\n",
       "\n",
       "    .dataframe tbody tr th {\n",
       "        vertical-align: top;\n",
       "    }\n",
       "\n",
       "    .dataframe thead th {\n",
       "        text-align: right;\n",
       "    }\n",
       "</style>\n",
       "<table border=\"1\" class=\"dataframe\">\n",
       "  <thead>\n",
       "    <tr style=\"text-align: right;\">\n",
       "      <th></th>\n",
       "      <th>5-gram</th>\n",
       "      <th>Count</th>\n",
       "    </tr>\n",
       "  </thead>\n",
       "  <tbody>\n",
       "    <tr>\n",
       "      <th>0</th>\n",
       "      <td>في تصريح لجريدة هسبريس الإلكترونية،</td>\n",
       "      <td>512</td>\n",
       "    </tr>\n",
       "    <tr>\n",
       "      <th>1</th>\n",
       "      <td>تصريح لجريدة هسبريس الإلكترونية، أن</td>\n",
       "      <td>329</td>\n",
       "    </tr>\n",
       "    <tr>\n",
       "      <th>2</th>\n",
       "      <td>الخارجية والتعاون الإفريقي والمغاربة المقيمين</td>\n",
       "      <td>243</td>\n",
       "    </tr>\n",
       "    <tr>\n",
       "      <th>3</th>\n",
       "      <td>الشؤون الخارجية والتعاون الإفريقي والمغاربة</td>\n",
       "      <td>240</td>\n",
       "    </tr>\n",
       "    <tr>\n",
       "      <th>4</th>\n",
       "      <td>الوطنية والتكوين المهني والتعليم العالي</td>\n",
       "      <td>195</td>\n",
       "    </tr>\n",
       "  </tbody>\n",
       "</table>\n",
       "</div>"
      ],
      "text/plain": [
       "                                          5-gram  Count\n",
       "0            في تصريح لجريدة هسبريس الإلكترونية،    512\n",
       "1            تصريح لجريدة هسبريس الإلكترونية، أن    329\n",
       "2  الخارجية والتعاون الإفريقي والمغاربة المقيمين    243\n",
       "3    الشؤون الخارجية والتعاون الإفريقي والمغاربة    240\n",
       "4        الوطنية والتكوين المهني والتعليم العالي    195"
      ]
     },
     "execution_count": 14,
     "metadata": {},
     "output_type": "execute_result"
    }
   ],
   "source": [
    "# Get the top 10 5-grams from the \"story\" column\n",
    "top_ngrams = get_top_ngrams(Data_Stories['story'],5,10)\n",
    "top_ngrams.head()"
   ]
  },
  {
   "cell_type": "code",
   "execution_count": 15,
   "id": "14a40324",
   "metadata": {},
   "outputs": [],
   "source": [
    "'''\n",
    "function to get top ngrams per class\n",
    "\n",
    "this function takes our Data and the number of grams you want and number of rows \n",
    "you want to see from most frequent n-grams ,then it take each class and then apply\n",
    "get_ngrams to each story in this class and also get the most frequent ngrams\n",
    "in this class, we want to see the output as a dataframe so we creat a dicionary that contains\n",
    "class name as a key and most frequent ngrams with its count as a value,after thatt we\n",
    "convert this dictionary to dataframe with three columns [n-grms , count , class]\n",
    "\n",
    "'''\n",
    "\n",
    "def get_top_ngrams_per_class(Data, N, top_N):\n",
    "    ngram_counts = {}\n",
    "    for class_name in Data['topic'].unique():\n",
    "        class_df = Data[Data['topic'] == class_name]\n",
    "        class_ngram_counts = Counter()\n",
    "        for text in class_df['story']:\n",
    "            ngrams = get_ngrams(text, N)\n",
    "            class_ngram_counts.update(ngrams)\n",
    "        top_ngrams = class_ngram_counts.most_common(top_N)\n",
    "        ngram_counts[class_name] = top_ngrams\n",
    "    New = []\n",
    "    for class_name, class_ngram_counts in ngram_counts.items():\n",
    "        top_ngrams_df = pd.DataFrame(class_ngram_counts, columns=[f'{N}-gram', 'Count'])\n",
    "        top_ngrams_df['class'] = class_name\n",
    "        New.append(top_ngrams_df)\n",
    "    return pd.concat(New, ignore_index=True)"
   ]
  },
  {
   "cell_type": "code",
   "execution_count": 16,
   "id": "19f524b6",
   "metadata": {},
   "outputs": [
    {
     "data": {
      "text/html": [
       "<div>\n",
       "<style scoped>\n",
       "    .dataframe tbody tr th:only-of-type {\n",
       "        vertical-align: middle;\n",
       "    }\n",
       "\n",
       "    .dataframe tbody tr th {\n",
       "        vertical-align: top;\n",
       "    }\n",
       "\n",
       "    .dataframe thead th {\n",
       "        text-align: right;\n",
       "    }\n",
       "</style>\n",
       "<table border=\"1\" class=\"dataframe\">\n",
       "  <thead>\n",
       "    <tr style=\"text-align: right;\">\n",
       "      <th></th>\n",
       "      <th>5-gram</th>\n",
       "      <th>Count</th>\n",
       "      <th>class</th>\n",
       "    </tr>\n",
       "  </thead>\n",
       "  <tbody>\n",
       "    <tr>\n",
       "      <th>0</th>\n",
       "      <td>القانون التنظيمي لتفعيل الطابع الرسمي</td>\n",
       "      <td>92</td>\n",
       "      <td>tamazight</td>\n",
       "    </tr>\n",
       "    <tr>\n",
       "      <th>1</th>\n",
       "      <td>الجامعة الملكية المغربية لكرة القدم</td>\n",
       "      <td>58</td>\n",
       "      <td>sport</td>\n",
       "    </tr>\n",
       "    <tr>\n",
       "      <th>2</th>\n",
       "      <td>في تصريح لجريدة هسبريس الإلكترونية،</td>\n",
       "      <td>126</td>\n",
       "      <td>societe</td>\n",
       "    </tr>\n",
       "    <tr>\n",
       "      <th>3</th>\n",
       "      <td>في تصريح لجريدة هسبريس الإلكترونية،</td>\n",
       "      <td>45</td>\n",
       "      <td>regions</td>\n",
       "    </tr>\n",
       "    <tr>\n",
       "      <th>4</th>\n",
       "      <td>الشؤون الخارجية والتعاون الإفريقي والمغاربة</td>\n",
       "      <td>126</td>\n",
       "      <td>politique</td>\n",
       "    </tr>\n",
       "    <tr>\n",
       "      <th>5</th>\n",
       "      <td>النبي صلى الله عليه وسلم</td>\n",
       "      <td>49</td>\n",
       "      <td>orbites</td>\n",
       "    </tr>\n",
       "    <tr>\n",
       "      <th>6</th>\n",
       "      <td>قراءة مواد بعض الجرائد الورقية</td>\n",
       "      <td>54</td>\n",
       "      <td>medias</td>\n",
       "    </tr>\n",
       "    <tr>\n",
       "      <th>7</th>\n",
       "      <td>المنتدبة المكلفة بالمغاربة المقيمين بالخارج</td>\n",
       "      <td>68</td>\n",
       "      <td>marocains-du-monde</td>\n",
       "    </tr>\n",
       "    <tr>\n",
       "      <th>8</th>\n",
       "      <td>تحت إشراف النيابة العامة المختصة،</td>\n",
       "      <td>134</td>\n",
       "      <td>faits-divers</td>\n",
       "    </tr>\n",
       "    <tr>\n",
       "      <th>9</th>\n",
       "      <td>وزير الاقتصاد والمالية وإصلاح الإدارة،</td>\n",
       "      <td>53</td>\n",
       "      <td>economie</td>\n",
       "    </tr>\n",
       "    <tr>\n",
       "      <th>10</th>\n",
       "      <td>في تصريح لجريدة هسبريس الإلكترونية،</td>\n",
       "      <td>36</td>\n",
       "      <td>art-et-culture</td>\n",
       "    </tr>\n",
       "  </tbody>\n",
       "</table>\n",
       "</div>"
      ],
      "text/plain": [
       "                                         5-gram  Count               class\n",
       "0         القانون التنظيمي لتفعيل الطابع الرسمي     92           tamazight\n",
       "1           الجامعة الملكية المغربية لكرة القدم     58               sport\n",
       "2           في تصريح لجريدة هسبريس الإلكترونية،    126             societe\n",
       "3           في تصريح لجريدة هسبريس الإلكترونية،     45             regions\n",
       "4   الشؤون الخارجية والتعاون الإفريقي والمغاربة    126           politique\n",
       "5                      النبي صلى الله عليه وسلم     49             orbites\n",
       "6                قراءة مواد بعض الجرائد الورقية     54              medias\n",
       "7   المنتدبة المكلفة بالمغاربة المقيمين بالخارج     68  marocains-du-monde\n",
       "8             تحت إشراف النيابة العامة المختصة،    134        faits-divers\n",
       "9        وزير الاقتصاد والمالية وإصلاح الإدارة،     53            economie\n",
       "10          في تصريح لجريدة هسبريس الإلكترونية،     36      art-et-culture"
      ]
     },
     "execution_count": 16,
     "metadata": {},
     "output_type": "execute_result"
    }
   ],
   "source": [
    "get_top_ngrams_per_class(Data_Stories, 5, 1)"
   ]
  },
  {
   "cell_type": "markdown",
   "id": "11b09f67",
   "metadata": {},
   "source": [
    "- The most frequent 5-grams in stories in general is repeated 512 times.\n",
    "- The most frequent 5-grams per class is repeated 134 at faits-divers class."
   ]
  },
  {
   "cell_type": "markdown",
   "id": "84e2b595",
   "metadata": {},
   "source": [
    "### Research Question 3  (What is the mean length of examples in words and letters?)"
   ]
  },
  {
   "cell_type": "code",
   "execution_count": 17,
   "id": "b2f940f7",
   "metadata": {},
   "outputs": [
    {
     "data": {
      "text/html": [
       "<div>\n",
       "<style scoped>\n",
       "    .dataframe tbody tr th:only-of-type {\n",
       "        vertical-align: middle;\n",
       "    }\n",
       "\n",
       "    .dataframe tbody tr th {\n",
       "        vertical-align: top;\n",
       "    }\n",
       "\n",
       "    .dataframe thead th {\n",
       "        text-align: right;\n",
       "    }\n",
       "</style>\n",
       "<table border=\"1\" class=\"dataframe\">\n",
       "  <thead>\n",
       "    <tr style=\"text-align: right;\">\n",
       "      <th></th>\n",
       "      <th>id</th>\n",
       "      <th>title</th>\n",
       "      <th>date</th>\n",
       "      <th>author</th>\n",
       "      <th>story</th>\n",
       "      <th>topic</th>\n",
       "      <th>words</th>\n",
       "      <th>letters</th>\n",
       "    </tr>\n",
       "  </thead>\n",
       "  <tbody>\n",
       "    <tr>\n",
       "      <th>0</th>\n",
       "      <td>9de52a46055311eb8949646e69d991ea</td>\n",
       "      <td>وزارة التربية: لا تغيير في الغلاف الزمني للأما...</td>\n",
       "      <td>السبت 03 أكتوبر 2020 - 00:02</td>\n",
       "      <td>هسبريس من الرباط</td>\n",
       "      <td>قالت وزارة التربية الوطنية والتكوين المهني وال...</td>\n",
       "      <td>tamazight</td>\n",
       "      <td>83</td>\n",
       "      <td>554</td>\n",
       "    </tr>\n",
       "    <tr>\n",
       "      <th>1</th>\n",
       "      <td>9ee74b02055311ebb757646e69d991ea</td>\n",
       "      <td>\"تغييب\" تدريس الأمازيغية يغضب نقابات بتزنيت</td>\n",
       "      <td>الاثنين 28 شتنبر 2020 - 09:13</td>\n",
       "      <td>رشيد بيجيكن من أكادير</td>\n",
       "      <td>طالبت الكتابة الإقليمية للجامعة الوطنية للتعلي...</td>\n",
       "      <td>tamazight</td>\n",
       "      <td>246</td>\n",
       "      <td>1647</td>\n",
       "    </tr>\n",
       "    <tr>\n",
       "      <th>2</th>\n",
       "      <td>9fed7812055311eb9158646e69d991ea</td>\n",
       "      <td>مرصد يستنكر رفض قبول أستاذة أمازيغية بمدرسة</td>\n",
       "      <td>الاثنين 28 شتنبر 2020 - 00:41</td>\n",
       "      <td>هسبريس من الرباط</td>\n",
       "      <td>أفاد المرصد الأمازيغي للحقوق والحريات أنه توصل...</td>\n",
       "      <td>tamazight</td>\n",
       "      <td>218</td>\n",
       "      <td>1360</td>\n",
       "    </tr>\n",
       "    <tr>\n",
       "      <th>3</th>\n",
       "      <td>a0e39038055311eb8f78646e69d991ea</td>\n",
       "      <td>نص امتحان موحد يثير حنق فعاليات أمازيغية</td>\n",
       "      <td>السبت 26 شتنبر 2020 - 17:28</td>\n",
       "      <td>هسبريس من الرّباط</td>\n",
       "      <td>سجلت فعاليات مدنية أمازيغية عديدة امتعاضها من ...</td>\n",
       "      <td>tamazight</td>\n",
       "      <td>96</td>\n",
       "      <td>609</td>\n",
       "    </tr>\n",
       "    <tr>\n",
       "      <th>4</th>\n",
       "      <td>a1d90814055311eb879e646e69d991ea</td>\n",
       "      <td>\"عادل تيزنيت\" يتحف المغاربة بالموسيقى الأمازيغية</td>\n",
       "      <td>السبت 26 شتنبر 2020 - 15:50</td>\n",
       "      <td>هسبريس من الرباط</td>\n",
       "      <td>من داخل سيارة بسيطة يركنها بالمدخل الشمالي لمد...</td>\n",
       "      <td>tamazight</td>\n",
       "      <td>274</td>\n",
       "      <td>1710</td>\n",
       "    </tr>\n",
       "  </tbody>\n",
       "</table>\n",
       "</div>"
      ],
      "text/plain": [
       "                                 id  \\\n",
       "0  9de52a46055311eb8949646e69d991ea   \n",
       "1  9ee74b02055311ebb757646e69d991ea   \n",
       "2  9fed7812055311eb9158646e69d991ea   \n",
       "3  a0e39038055311eb8f78646e69d991ea   \n",
       "4  a1d90814055311eb879e646e69d991ea   \n",
       "\n",
       "                                               title  \\\n",
       "0  وزارة التربية: لا تغيير في الغلاف الزمني للأما...   \n",
       "1        \"تغييب\" تدريس الأمازيغية يغضب نقابات بتزنيت   \n",
       "2        مرصد يستنكر رفض قبول أستاذة أمازيغية بمدرسة   \n",
       "3           نص امتحان موحد يثير حنق فعاليات أمازيغية   \n",
       "4   \"عادل تيزنيت\" يتحف المغاربة بالموسيقى الأمازيغية   \n",
       "\n",
       "                            date                 author  \\\n",
       "0   السبت 03 أكتوبر 2020 - 00:02       هسبريس من الرباط   \n",
       "1  الاثنين 28 شتنبر 2020 - 09:13  رشيد بيجيكن من أكادير   \n",
       "2  الاثنين 28 شتنبر 2020 - 00:41       هسبريس من الرباط   \n",
       "3    السبت 26 شتنبر 2020 - 17:28      هسبريس من الرّباط   \n",
       "4    السبت 26 شتنبر 2020 - 15:50       هسبريس من الرباط   \n",
       "\n",
       "                                               story      topic  words  \\\n",
       "0  قالت وزارة التربية الوطنية والتكوين المهني وال...  tamazight     83   \n",
       "1  طالبت الكتابة الإقليمية للجامعة الوطنية للتعلي...  tamazight    246   \n",
       "2  أفاد المرصد الأمازيغي للحقوق والحريات أنه توصل...  tamazight    218   \n",
       "3  سجلت فعاليات مدنية أمازيغية عديدة امتعاضها من ...  tamazight     96   \n",
       "4  من داخل سيارة بسيطة يركنها بالمدخل الشمالي لمد...  tamazight    274   \n",
       "\n",
       "   letters  \n",
       "0      554  \n",
       "1     1647  \n",
       "2     1360  \n",
       "3      609  \n",
       "4     1710  "
      ]
     },
     "execution_count": 17,
     "metadata": {},
     "output_type": "execute_result"
    }
   ],
   "source": [
    "# function to calculate the length of each story in words\n",
    "def count_words(text):\n",
    "    return len(text.split())\n",
    "\n",
    "# function to calculate the length of each story in letters\n",
    "def count_letters(text):\n",
    "    return len(text)\n",
    "\n",
    "# Calculate the length of each story in words\n",
    "Data_Stories['words'] = Data_Stories['story'].apply(count_words)\n",
    "\n",
    "# Calculate the length of each story in letters\n",
    "Data_Stories['letters'] = Data_Stories['story'].apply(count_letters)\n",
    "Data_Stories.head()"
   ]
  },
  {
   "cell_type": "code",
   "execution_count": 18,
   "id": "e81787ab",
   "metadata": {},
   "outputs": [
    {
     "data": {
      "text/plain": [
       "<AxesSubplot:>"
      ]
     },
     "execution_count": 18,
     "metadata": {},
     "output_type": "execute_result"
    },
    {
     "data": {
      "image/png": "[encoded data removed]",
      "text/plain": [
       "<Figure size 432x288 with 1 Axes>"
      ]
     },
     "metadata": {
      "needs_background": "light"
     },
     "output_type": "display_data"
    }
   ],
   "source": [
    "# we will calculate the mean length of words per story and the mean length leters per story\n",
    "mean_words = Data_Stories['words'].mean()\n",
    "mean_letters = Data_Stories['letters'].mean()\n",
    "# Create the bar chart \n",
    "sns.barplot(x=['Words', 'Letters'], y=[mean_words, mean_letters])"
   ]
  },
  {
   "cell_type": "code",
   "execution_count": 19,
   "id": "b31a0ece",
   "metadata": {},
   "outputs": [
    {
     "name": "stdout",
     "output_type": "stream",
     "text": [
      "370.4949090909091 2333.2716363636364\n"
     ]
    }
   ],
   "source": [
    "print(mean_words,mean_letters)"
   ]
  },
  {
   "cell_type": "markdown",
   "id": "436e93e0",
   "metadata": {},
   "source": [
    "- The mean length of words per story is 371 word .\n",
    "- The mean length of letters per story is 2334 letter."
   ]
  },
  {
   "cell_type": "markdown",
   "id": "43933e4d",
   "metadata": {},
   "source": [
    "### Research Question 4  (What is the most frequent author name in each class?)"
   ]
  },
  {
   "cell_type": "code",
   "execution_count": 20,
   "id": "a9565c90",
   "metadata": {},
   "outputs": [
    {
     "data": {
      "text/html": [
       "<div>\n",
       "<style scoped>\n",
       "    .dataframe tbody tr th:only-of-type {\n",
       "        vertical-align: middle;\n",
       "    }\n",
       "\n",
       "    .dataframe tbody tr th {\n",
       "        vertical-align: top;\n",
       "    }\n",
       "\n",
       "    .dataframe thead th {\n",
       "        text-align: right;\n",
       "    }\n",
       "</style>\n",
       "<table border=\"1\" class=\"dataframe\">\n",
       "  <thead>\n",
       "    <tr style=\"text-align: right;\">\n",
       "      <th></th>\n",
       "      <th>topic</th>\n",
       "      <th>author</th>\n",
       "      <th>count</th>\n",
       "    </tr>\n",
       "  </thead>\n",
       "  <tbody>\n",
       "    <tr>\n",
       "      <th>0</th>\n",
       "      <td>art-et-culture</td>\n",
       "      <td>هسبريس من الرباط</td>\n",
       "      <td>433</td>\n",
       "    </tr>\n",
       "    <tr>\n",
       "      <th>1</th>\n",
       "      <td>art-et-culture</td>\n",
       "      <td>هسبريس - وائل بورشاشن</td>\n",
       "      <td>108</td>\n",
       "    </tr>\n",
       "    <tr>\n",
       "      <th>2</th>\n",
       "      <td>art-et-culture</td>\n",
       "      <td>محمد بنعزيز</td>\n",
       "      <td>37</td>\n",
       "    </tr>\n",
       "    <tr>\n",
       "      <th>3</th>\n",
       "      <td>art-et-culture</td>\n",
       "      <td>أيوب صدور من تطوان</td>\n",
       "      <td>21</td>\n",
       "    </tr>\n",
       "    <tr>\n",
       "      <th>4</th>\n",
       "      <td>art-et-culture</td>\n",
       "      <td>هسبريس - محمد الراجي</td>\n",
       "      <td>21</td>\n",
       "    </tr>\n",
       "    <tr>\n",
       "      <th>...</th>\n",
       "      <td>...</td>\n",
       "      <td>...</td>\n",
       "      <td>...</td>\n",
       "    </tr>\n",
       "    <tr>\n",
       "      <th>1430</th>\n",
       "      <td>tamazight</td>\n",
       "      <td>هسبريس-و.م.ع</td>\n",
       "      <td>1</td>\n",
       "    </tr>\n",
       "    <tr>\n",
       "      <th>1431</th>\n",
       "      <td>tamazight</td>\n",
       "      <td>هسبريس– نورالدين إكجان</td>\n",
       "      <td>1</td>\n",
       "    </tr>\n",
       "    <tr>\n",
       "      <th>1432</th>\n",
       "      <td>tamazight</td>\n",
       "      <td>وائل بورشاشن(*)</td>\n",
       "      <td>1</td>\n",
       "    </tr>\n",
       "    <tr>\n",
       "      <th>1433</th>\n",
       "      <td>tamazight</td>\n",
       "      <td>وسام الحنكاري*</td>\n",
       "      <td>1</td>\n",
       "    </tr>\n",
       "    <tr>\n",
       "      <th>1434</th>\n",
       "      <td>tamazight</td>\n",
       "      <td>ياسين كوسكار</td>\n",
       "      <td>1</td>\n",
       "    </tr>\n",
       "  </tbody>\n",
       "</table>\n",
       "<p>1435 rows × 3 columns</p>\n",
       "</div>"
      ],
      "text/plain": [
       "               topic                  author  count\n",
       "0     art-et-culture        هسبريس من الرباط    433\n",
       "1     art-et-culture   هسبريس - وائل بورشاشن    108\n",
       "2     art-et-culture             محمد بنعزيز     37\n",
       "3     art-et-culture      أيوب صدور من تطوان     21\n",
       "4     art-et-culture    هسبريس - محمد الراجي     21\n",
       "...              ...                     ...    ...\n",
       "1430       tamazight            هسبريس-و.م.ع      1\n",
       "1431       tamazight  هسبريس– نورالدين إكجان      1\n",
       "1432       tamazight         وائل بورشاشن(*)      1\n",
       "1433       tamazight          وسام الحنكاري*      1\n",
       "1434       tamazight            ياسين كوسكار      1\n",
       "\n",
       "[1435 rows x 3 columns]"
      ]
     },
     "execution_count": 20,
     "metadata": {},
     "output_type": "execute_result"
    }
   ],
   "source": [
    "'''creat a new dataframe called Authors that makes data of\n",
    "authors's names into groups by their classes and calculate the frequency of\n",
    "each author in each class\n",
    "'''\n",
    "Authors = Data_Stories.groupby('topic').author.value_counts(ascending=False)\n",
    "Authors_df = Authors.reset_index(name='count')\n",
    "Authors_df"
   ]
  },
  {
   "cell_type": "code",
   "execution_count": 21,
   "id": "d6827545",
   "metadata": {},
   "outputs": [
    {
     "name": "stderr",
     "output_type": "stream",
     "text": [
      "C:\\Users\\Toshiba\\AppData\\Local\\Temp\\ipykernel_20900\\1558299867.py:2: FutureWarning: Indexing with multiple keys (implicitly converted to a tuple of keys) will be deprecated, use a list instead.\n",
      "  Authors_df.groupby('topic')['author','count'].max()\n"
     ]
    },
    {
     "data": {
      "text/html": [
       "<div>\n",
       "<style scoped>\n",
       "    .dataframe tbody tr th:only-of-type {\n",
       "        vertical-align: middle;\n",
       "    }\n",
       "\n",
       "    .dataframe tbody tr th {\n",
       "        vertical-align: top;\n",
       "    }\n",
       "\n",
       "    .dataframe thead th {\n",
       "        text-align: right;\n",
       "    }\n",
       "</style>\n",
       "<table border=\"1\" class=\"dataframe\">\n",
       "  <thead>\n",
       "    <tr style=\"text-align: right;\">\n",
       "      <th></th>\n",
       "      <th>author</th>\n",
       "      <th>count</th>\n",
       "    </tr>\n",
       "    <tr>\n",
       "      <th>topic</th>\n",
       "      <th></th>\n",
       "      <th></th>\n",
       "    </tr>\n",
       "  </thead>\n",
       "  <tbody>\n",
       "    <tr>\n",
       "      <th>art-et-culture</th>\n",
       "      <td>يوسف صدوق من الرياض*</td>\n",
       "      <td>433</td>\n",
       "    </tr>\n",
       "    <tr>\n",
       "      <th>economie</th>\n",
       "      <td>هسبريس- محمد بلقاسم</td>\n",
       "      <td>489</td>\n",
       "    </tr>\n",
       "    <tr>\n",
       "      <th>faits-divers</th>\n",
       "      <td>ياسين أوشن</td>\n",
       "      <td>259</td>\n",
       "    </tr>\n",
       "    <tr>\n",
       "      <th>marocains-du-monde</th>\n",
       "      <td>يونس إجيري من هلسنكي</td>\n",
       "      <td>372</td>\n",
       "    </tr>\n",
       "    <tr>\n",
       "      <th>medias</th>\n",
       "      <td>يوسف لهلالي من باريس</td>\n",
       "      <td>550</td>\n",
       "    </tr>\n",
       "    <tr>\n",
       "      <th>orbites</th>\n",
       "      <td>ياسين عدنان</td>\n",
       "      <td>437</td>\n",
       "    </tr>\n",
       "    <tr>\n",
       "      <th>politique</th>\n",
       "      <td>ياسين أوشن من خنيفرة</td>\n",
       "      <td>441</td>\n",
       "    </tr>\n",
       "    <tr>\n",
       "      <th>regions</th>\n",
       "      <td>ياسين عدنان (صور: أحمد بنسماعيل)</td>\n",
       "      <td>189</td>\n",
       "    </tr>\n",
       "    <tr>\n",
       "      <th>societe</th>\n",
       "      <td>ياسين عدنان</td>\n",
       "      <td>523</td>\n",
       "    </tr>\n",
       "    <tr>\n",
       "      <th>sport</th>\n",
       "      <td>‎ أوعنا بلعيد</td>\n",
       "      <td>400</td>\n",
       "    </tr>\n",
       "    <tr>\n",
       "      <th>tamazight</th>\n",
       "      <td>ياسين كوسكار</td>\n",
       "      <td>166</td>\n",
       "    </tr>\n",
       "  </tbody>\n",
       "</table>\n",
       "</div>"
      ],
      "text/plain": [
       "                                              author  count\n",
       "topic                                                      \n",
       "art-et-culture                  يوسف صدوق من الرياض*    433\n",
       "economie                         هسبريس- محمد بلقاسم    489\n",
       "faits-divers                              ياسين أوشن    259\n",
       "marocains-du-monde              يونس إجيري من هلسنكي    372\n",
       "medias                          يوسف لهلالي من باريس    550\n",
       "orbites                                  ياسين عدنان    437\n",
       "politique                       ياسين أوشن من خنيفرة    441\n",
       "regions             ياسين عدنان (صور: أحمد بنسماعيل)    189\n",
       "societe                                  ياسين عدنان    523\n",
       "sport                                  ‎ أوعنا بلعيد    400\n",
       "tamazight                               ياسين كوسكار    166"
      ]
     },
     "execution_count": 21,
     "metadata": {},
     "output_type": "execute_result"
    }
   ],
   "source": [
    "#Get the maximum count of each author per class\n",
    "Authors_df.groupby('topic')['author','count'].max()"
   ]
  },
  {
   "cell_type": "markdown",
   "id": "103cd92b",
   "metadata": {},
   "source": [
    "- The most frequent author per class is Youssef Lahlali from Paris with 550 times at medias class.\n"
   ]
  },
  {
   "cell_type": "markdown",
   "id": "d4f2cacd",
   "metadata": {},
   "source": [
    "### Research Question 5  (What is the most common year in the dataset?)"
   ]
  },
  {
   "cell_type": "code",
   "execution_count": 23,
   "id": "c348b383",
   "metadata": {},
   "outputs": [],
   "source": [
    "'''\n",
    "create a list with years from 2000 to 2022 and then covert elements to string\n",
    "to make it easy when we compare with date at dataset \n",
    "'''\n",
    "year_list = range(2000,2022)\n",
    "year_list =list(map(str, year_list))"
   ]
  },
  {
   "cell_type": "code",
   "execution_count": 24,
   "id": "ff73c280",
   "metadata": {},
   "outputs": [],
   "source": [
    "'''\n",
    "iterate in each data in the data sett and split it to take only the year \n",
    ",after that we will create new column named years and fill it with year of each story\n",
    "'''\n",
    "years=[]\n",
    "for i in range (0,len(Data_Stories)):\n",
    "    date = Data_Stories['date'][i].split()[3]\n",
    "    if date in year_list:\n",
    "        years.append(date)"
   ]
  },
  {
   "cell_type": "code",
   "execution_count": 25,
   "id": "98d9e859",
   "metadata": {},
   "outputs": [],
   "source": [
    "Data_Stories['years'] = years"
   ]
  },
  {
   "cell_type": "code",
   "execution_count": 26,
   "id": "3fca9f34",
   "metadata": {},
   "outputs": [
    {
     "data": {
      "text/html": [
       "<div>\n",
       "<style scoped>\n",
       "    .dataframe tbody tr th:only-of-type {\n",
       "        vertical-align: middle;\n",
       "    }\n",
       "\n",
       "    .dataframe tbody tr th {\n",
       "        vertical-align: top;\n",
       "    }\n",
       "\n",
       "    .dataframe thead th {\n",
       "        text-align: right;\n",
       "    }\n",
       "</style>\n",
       "<table border=\"1\" class=\"dataframe\">\n",
       "  <thead>\n",
       "    <tr style=\"text-align: right;\">\n",
       "      <th></th>\n",
       "      <th>id</th>\n",
       "      <th>title</th>\n",
       "      <th>date</th>\n",
       "      <th>author</th>\n",
       "      <th>story</th>\n",
       "      <th>topic</th>\n",
       "      <th>words</th>\n",
       "      <th>letters</th>\n",
       "      <th>years</th>\n",
       "    </tr>\n",
       "  </thead>\n",
       "  <tbody>\n",
       "    <tr>\n",
       "      <th>0</th>\n",
       "      <td>9de52a46055311eb8949646e69d991ea</td>\n",
       "      <td>وزارة التربية: لا تغيير في الغلاف الزمني للأما...</td>\n",
       "      <td>السبت 03 أكتوبر 2020 - 00:02</td>\n",
       "      <td>هسبريس من الرباط</td>\n",
       "      <td>قالت وزارة التربية الوطنية والتكوين المهني وال...</td>\n",
       "      <td>tamazight</td>\n",
       "      <td>83</td>\n",
       "      <td>554</td>\n",
       "      <td>2020</td>\n",
       "    </tr>\n",
       "    <tr>\n",
       "      <th>1</th>\n",
       "      <td>9ee74b02055311ebb757646e69d991ea</td>\n",
       "      <td>\"تغييب\" تدريس الأمازيغية يغضب نقابات بتزنيت</td>\n",
       "      <td>الاثنين 28 شتنبر 2020 - 09:13</td>\n",
       "      <td>رشيد بيجيكن من أكادير</td>\n",
       "      <td>طالبت الكتابة الإقليمية للجامعة الوطنية للتعلي...</td>\n",
       "      <td>tamazight</td>\n",
       "      <td>246</td>\n",
       "      <td>1647</td>\n",
       "      <td>2020</td>\n",
       "    </tr>\n",
       "    <tr>\n",
       "      <th>2</th>\n",
       "      <td>9fed7812055311eb9158646e69d991ea</td>\n",
       "      <td>مرصد يستنكر رفض قبول أستاذة أمازيغية بمدرسة</td>\n",
       "      <td>الاثنين 28 شتنبر 2020 - 00:41</td>\n",
       "      <td>هسبريس من الرباط</td>\n",
       "      <td>أفاد المرصد الأمازيغي للحقوق والحريات أنه توصل...</td>\n",
       "      <td>tamazight</td>\n",
       "      <td>218</td>\n",
       "      <td>1360</td>\n",
       "      <td>2020</td>\n",
       "    </tr>\n",
       "    <tr>\n",
       "      <th>3</th>\n",
       "      <td>a0e39038055311eb8f78646e69d991ea</td>\n",
       "      <td>نص امتحان موحد يثير حنق فعاليات أمازيغية</td>\n",
       "      <td>السبت 26 شتنبر 2020 - 17:28</td>\n",
       "      <td>هسبريس من الرّباط</td>\n",
       "      <td>سجلت فعاليات مدنية أمازيغية عديدة امتعاضها من ...</td>\n",
       "      <td>tamazight</td>\n",
       "      <td>96</td>\n",
       "      <td>609</td>\n",
       "      <td>2020</td>\n",
       "    </tr>\n",
       "    <tr>\n",
       "      <th>4</th>\n",
       "      <td>a1d90814055311eb879e646e69d991ea</td>\n",
       "      <td>\"عادل تيزنيت\" يتحف المغاربة بالموسيقى الأمازيغية</td>\n",
       "      <td>السبت 26 شتنبر 2020 - 15:50</td>\n",
       "      <td>هسبريس من الرباط</td>\n",
       "      <td>من داخل سيارة بسيطة يركنها بالمدخل الشمالي لمد...</td>\n",
       "      <td>tamazight</td>\n",
       "      <td>274</td>\n",
       "      <td>1710</td>\n",
       "      <td>2020</td>\n",
       "    </tr>\n",
       "  </tbody>\n",
       "</table>\n",
       "</div>"
      ],
      "text/plain": [
       "                                 id  \\\n",
       "0  9de52a46055311eb8949646e69d991ea   \n",
       "1  9ee74b02055311ebb757646e69d991ea   \n",
       "2  9fed7812055311eb9158646e69d991ea   \n",
       "3  a0e39038055311eb8f78646e69d991ea   \n",
       "4  a1d90814055311eb879e646e69d991ea   \n",
       "\n",
       "                                               title  \\\n",
       "0  وزارة التربية: لا تغيير في الغلاف الزمني للأما...   \n",
       "1        \"تغييب\" تدريس الأمازيغية يغضب نقابات بتزنيت   \n",
       "2        مرصد يستنكر رفض قبول أستاذة أمازيغية بمدرسة   \n",
       "3           نص امتحان موحد يثير حنق فعاليات أمازيغية   \n",
       "4   \"عادل تيزنيت\" يتحف المغاربة بالموسيقى الأمازيغية   \n",
       "\n",
       "                            date                 author  \\\n",
       "0   السبت 03 أكتوبر 2020 - 00:02       هسبريس من الرباط   \n",
       "1  الاثنين 28 شتنبر 2020 - 09:13  رشيد بيجيكن من أكادير   \n",
       "2  الاثنين 28 شتنبر 2020 - 00:41       هسبريس من الرباط   \n",
       "3    السبت 26 شتنبر 2020 - 17:28      هسبريس من الرّباط   \n",
       "4    السبت 26 شتنبر 2020 - 15:50       هسبريس من الرباط   \n",
       "\n",
       "                                               story      topic  words  \\\n",
       "0  قالت وزارة التربية الوطنية والتكوين المهني وال...  tamazight     83   \n",
       "1  طالبت الكتابة الإقليمية للجامعة الوطنية للتعلي...  tamazight    246   \n",
       "2  أفاد المرصد الأمازيغي للحقوق والحريات أنه توصل...  tamazight    218   \n",
       "3  سجلت فعاليات مدنية أمازيغية عديدة امتعاضها من ...  tamazight     96   \n",
       "4  من داخل سيارة بسيطة يركنها بالمدخل الشمالي لمد...  tamazight    274   \n",
       "\n",
       "   letters years  \n",
       "0      554  2020  \n",
       "1     1647  2020  \n",
       "2     1360  2020  \n",
       "3      609  2020  \n",
       "4     1710  2020  "
      ]
     },
     "execution_count": 26,
     "metadata": {},
     "output_type": "execute_result"
    }
   ],
   "source": [
    "Data_Stories.head()"
   ]
  },
  {
   "cell_type": "code",
   "execution_count": 27,
   "id": "c2cfbbe5",
   "metadata": {},
   "outputs": [
    {
     "data": {
      "text/plain": [
       "<AxesSubplot:ylabel='years'>"
      ]
     },
     "execution_count": 27,
     "metadata": {},
     "output_type": "execute_result"
    },
    {
     "data": {
      "image/png": "[encoded data removed]",
      "text/plain": [
       "<Figure size 432x288 with 1 Axes>"
      ]
     },
     "metadata": {
      "needs_background": "light"
     },
     "output_type": "display_data"
    }
   ],
   "source": [
    "#visualize count of each year in the dataset\n",
    "sns.barplot(x=Data_Stories['years'].value_counts().index, y=Data_Stories['years'].value_counts())"
   ]
  },
  {
   "cell_type": "markdown",
   "id": "b057423d",
   "metadata": {},
   "source": [
    "- The most common year in the dataset is 2020."
   ]
  },
  {
   "cell_type": "markdown",
   "id": "034f3c80",
   "metadata": {},
   "source": [
    "<a id='conclusions'></a>\n",
    "## Conclusions\n",
    "- Dataset is balanced and each class has the same number of stories.\n",
    "- The most frequent 5-grams in stories in general is repeated 512 times.\n",
    "- The most frequent 5-grams per class is repeated 134 at faits-divers class.\n",
    "- The mean length of words per story is 371 word .\n",
    "- The mean length of letters per story is 2334 letter. \n",
    "- The most frequent author per class is Youssef Lahlali from Paris with 550 times at medias class.\n",
    "- The most common year in the dataset is 2020.\n"
   ]
  }
 ],
 "metadata": {
  "kernelspec": {
   "display_name": "Python 3 (ipykernel)",
   "language": "python",
   "name": "python3"
  },
  "language_info": {
   "codemirror_mode": {
    "name": "ipython",
    "version": 3
   },
   "file_extension": ".py",
   "mimetype": "text/x-python",
   "name": "python",
   "nbconvert_exporter": "python",
   "pygments_lexer": "ipython3",
   "version": "3.9.12"
  }
 },
 "nbformat": 4,
 "nbformat_minor": 5
}
